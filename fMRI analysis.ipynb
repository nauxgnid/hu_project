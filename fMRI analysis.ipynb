{
 "cells": [
  {
   "cell_type": "code",
   "execution_count": 2,
   "id": "3845aca4-0c1c-48d7-9fa4-3c890b801125",
   "metadata": {},
   "outputs": [
    {
     "name": "stdout",
     "output_type": "stream",
     "text": [
      "Selected subjects: ['sub-8013', 'sub-8096', 'sub-7565', 'sub-8175', 'sub-8058', 'sub-8017', 'sub-8091', 'sub-7878', 'sub-8168', 'sub-7957', 'sub-8150', 'sub-7733', 'sub-8144', 'sub-8098', 'sub-7780', 'sub-8157', 'sub-8028', 'sub-7727', 'sub-7498', 'sub-7960']\n"
     ]
    }
   ],
   "source": [
    "import pandas as pd\n",
    "import numpy as np\n",
    "\n",
    "# Load participants\n",
    "participants = pd.read_csv('/home/dingxuan/hu_project/ds005899/participants.tsv', sep='\\t')\n",
    "\n",
    "# Select 10 ADHD and 10 TD\n",
    "adhd_subjects = participants[participants['ADHD'] == 1].sample(n=10, random_state=42)\n",
    "td_subjects = participants[participants['ADHD'] == 0].sample(n=10, random_state=42)\n",
    "selected_subjects = pd.concat([adhd_subjects, td_subjects])\n",
    "\n",
    "# Save\n",
    "selected_subjects.to_csv('selected_subjects.tsv', sep='\\t', index=False)\n",
    "print(\"Selected subjects:\", selected_subjects['participant_id'].tolist())"
   ]
  },
  {
   "cell_type": "code",
   "execution_count": 5,
   "id": "efef4ed3-0374-462c-837f-54a5943838da",
   "metadata": {},
   "outputs": [
    {
     "ename": "SyntaxError",
     "evalue": "invalid syntax (2799254162.py, line 1)",
     "output_type": "error",
     "traceback": [
      "  \u001b[36mCell\u001b[39m\u001b[36m \u001b[39m\u001b[32mIn[5]\u001b[39m\u001b[32m, line 1\u001b[39m\n\u001b[31m    \u001b[39m\u001b[31mecho \"<paste the above script>\" > select_subjects.py\u001b[39m\n         ^\n\u001b[31mSyntaxError\u001b[39m\u001b[31m:\u001b[39m invalid syntax\n"
     ]
    }
   ],
   "source": []
  },
  {
   "cell_type": "code",
   "execution_count": null,
   "id": "0dc5413e-78f9-4c1c-8ab9-ef6d632a526a",
   "metadata": {},
   "outputs": [],
   "source": []
  }
 ],
 "metadata": {
  "kernelspec": {
   "display_name": "Python 3 (ipykernel)",
   "language": "python",
   "name": "python3"
  },
  "language_info": {
   "codemirror_mode": {
    "name": "ipython",
    "version": 3
   },
   "file_extension": ".py",
   "mimetype": "text/x-python",
   "name": "python",
   "nbconvert_exporter": "python",
   "pygments_lexer": "ipython3",
   "version": "3.12.9"
  }
 },
 "nbformat": 4,
 "nbformat_minor": 5
}
